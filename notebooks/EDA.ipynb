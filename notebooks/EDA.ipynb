{
 "cells": [
  {
   "cell_type": "code",
   "execution_count": null,
   "id": "4b22d653",
   "metadata": {},
   "outputs": [],
   "source": [
    "import pandas as pd\n",
    "import numpy as np\n",
    "import json\n",
    "import os\n",
    "import matplotlib.pyplot as plt\n",
    "from pathlib import Path\n",
    "from pandas_path import path\n",
    "\n",
    "import rasterio\n",
    "\n",
    "import warnings\n",
    "warnings.filterwarnings(\"ignore\")"
   ]
  },
  {
   "cell_type": "code",
   "execution_count": null,
   "id": "4f76325c",
   "metadata": {},
   "outputs": [],
   "source": [
    "# This is where our downloaded images and metadata live locally\n",
    "DATA_PATH = Path.cwd().parent / \"data\" / \"raw\" / \"train_features\""
   ]
  },
  {
   "cell_type": "code",
   "execution_count": null,
   "id": "65d67688",
   "metadata": {},
   "outputs": [],
   "source": [
    "train_metadata = pd.read_csv(\n",
    "    DATA_PATH / \"flood-training-metadata.csv\", parse_dates=[\"scene_start\"]\n",
    ")"
   ]
  },
  {
   "cell_type": "code",
   "execution_count": null,
   "id": "d066717f",
   "metadata": {},
   "outputs": [],
   "source": [
    "train_metadata.head()"
   ]
  },
  {
   "cell_type": "code",
   "execution_count": null,
   "id": "dfe14e19",
   "metadata": {},
   "outputs": [],
   "source": [
    "train_metadata.shape"
   ]
  },
  {
   "cell_type": "code",
   "execution_count": null,
   "id": "a1ad0cc2",
   "metadata": {},
   "outputs": [],
   "source": [
    "train_metadata.chip_id.nunique()"
   ]
  },
  {
   "cell_type": "markdown",
   "id": "044b3211",
   "metadata": {},
   "source": [
    "We have 542 unique chip id, every id has two images _vh and _vv"
   ]
  },
  {
   "cell_type": "code",
   "execution_count": null,
   "id": "df1e93c7",
   "metadata": {},
   "outputs": [],
   "source": [
    "train_metadata[\"feature_path\"] = (\n",
    "    str(DATA_PATH / \"train_features\")\n",
    "    / train_metadata.image_id.path.with_suffix(\".tif\").path\n",
    ")\n",
    "\n",
    "train_metadata[\"label_path\"] = (\n",
    "    str(DATA_PATH / \"train_labels\")\n",
    "    / train_metadata.chip_id.path.with_suffix(\".tif\").path\n",
    ")"
   ]
  },
  {
   "cell_type": "code",
   "execution_count": null,
   "id": "0a7bfaf2",
   "metadata": {},
   "outputs": [],
   "source": [
    "train_metadata"
   ]
  },
  {
   "cell_type": "code",
   "execution_count": null,
   "id": "0b5c4079",
   "metadata": {},
   "outputs": [],
   "source": [
    "# Examine an arbitrary image\n",
    "image_path = train_metadata.feature_path[0]\n",
    "with rasterio.open(image_path) as img:\n",
    "    metadata = img.meta\n",
    "    bounds = img.bounds\n",
    "    data = img.read(1)  # read a single band\n",
    "    \n",
    "with rasterio.open(image_path) as img:\n",
    "    gdal_mask = img.dataset_mask()\n",
    "    \n",
    "with rasterio.open(image_path) as img:\n",
    "    numpy_mask = img.read(1, masked=True)\n",
    "    \n",
    "f, ax = plt.subplots(1, 2, figsize=(9, 9))\n",
    "ax[0].imshow(gdal_mask)\n",
    "ax[1].imshow(numpy_mask)\n",
    "plt.show()"
   ]
  },
  {
   "cell_type": "code",
   "execution_count": null,
   "id": "7a89a5af",
   "metadata": {},
   "outputs": [],
   "source": [
    "# Helper functions for visualizing Sentinel-1 images\n",
    "def scale_img(matrix):\n",
    "    \"\"\"\n",
    "    Returns a scaled (H, W, D) image that is visually inspectable.\n",
    "    Image is linearly scaled between min_ and max_value, by channel.\n",
    "\n",
    "    Args:\n",
    "        matrix (np.array): (H, W, D) image to be scaled\n",
    "\n",
    "    Returns:\n",
    "        np.array: Image (H, W, 3) ready for visualization\n",
    "    \"\"\"\n",
    "    # Set min/max values\n",
    "    min_values = np.array([-23, -28, 0.2])\n",
    "    max_values = np.array([0, -5, 1])\n",
    "\n",
    "    # Reshape matrix\n",
    "    w, h, d = matrix.shape\n",
    "    matrix = np.reshape(matrix, [w * h, d]).astype(np.float64)\n",
    "\n",
    "    # Scale by min/max\n",
    "    matrix = (matrix - min_values[None, :]) / (\n",
    "        max_values[None, :] - min_values[None, :]\n",
    "    )\n",
    "    matrix = np.reshape(matrix, [w, h, d])\n",
    "\n",
    "    # Limit values to 0/1 interval\n",
    "    return matrix.clip(0, 1)\n",
    "\n",
    "def numpy_mask(image_path):\n",
    "    with rasterio.open(image_path) as img:\n",
    "        metadata = img.meta\n",
    "        bounds = img.bounds\n",
    "        data = img.read(1)  # read a single band\n",
    "\n",
    "    with rasterio.open(image_path) as img:\n",
    "        return img.read(1, masked=True)\n",
    "    \n",
    "def gdal_mask(image_path):\n",
    "    with rasterio.open(image_path) as img:\n",
    "        metadata = img.meta\n",
    "        bounds = img.bounds\n",
    "        data = img.read(1)  # read a single band\n",
    "\n",
    "    with rasterio.open(image_path) as img:\n",
    "        return img.dataset_mask()\n",
    "    \n",
    "\n",
    "def create_false_color_composite(path_vv, path_vh):\n",
    "    \"\"\"\n",
    "    Returns a S1 false color composite for visualization.\n",
    "\n",
    "    Args:\n",
    "        path_vv (str): path to the VV band\n",
    "        path_vh (str): path to the VH band\n",
    "\n",
    "    Returns:\n",
    "        np.array: image (H, W, 3) ready for visualization\n",
    "    \"\"\"\n",
    "    # Read VV/VH bands\n",
    "    with rasterio.open(path_vv) as vv:\n",
    "        vv_img = vv.read(1)\n",
    "    with rasterio.open(path_vh) as vh:\n",
    "        vh_img = vh.read(1)\n",
    "\n",
    "    # Stack arrays along the last dimension\n",
    "    s1_img = np.stack((vv_img, vh_img), axis=-1)\n",
    "\n",
    "    # Create false color composite\n",
    "    img = np.zeros((512, 512, 3), dtype=np.float32)\n",
    "    img[:, :, :2] = s1_img.copy()\n",
    "    img[:, :, 2] = s1_img[:, :, 0] / s1_img[:, :, 1]\n",
    "\n",
    "    return scale_img(img)\n",
    "\n",
    "\n",
    "def display_chip(row):\n",
    "    \"\"\"\n",
    "    Plots a 3-channel representation of VV/VH polarizations as a single chip (image 1).\n",
    "    Overlays a chip's corresponding water label (image 2).\n",
    "\n",
    "    Args:\n",
    "        random_state (int): random seed used to select a chip\n",
    "\n",
    "    Returns:\n",
    "        plot.show(): chip and labels plotted with pyplot\n",
    "    \"\"\"\n",
    "    f, ax = plt.subplots(2, 2, figsize=(15, 15))\n",
    "\n",
    "    # Select a random chip from train_metadata\n",
    "    #random_chip = train_metadata.chip_id.sample(random_state=random_state).values[0]\n",
    "    chip_df = train_metadata.iloc[row*2:row*2+2]\n",
    "\n",
    "    # Extract paths to image files\n",
    "    vv_path = chip_df[chip_df.polarization == \"vv\"].feature_path.values[0]\n",
    "    vh_path = chip_df[chip_df.polarization == \"vh\"].feature_path.values[0]\n",
    "    label_path = chip_df.label_path.values[0]\n",
    "\n",
    "    # Create false color composite\n",
    "    s1_img = create_false_color_composite(vv_path, vh_path)\n",
    "\n",
    "    #visualize radar image\n",
    "    ax[0][0].imshow(numpy_mask(vv_path))\n",
    "    ax[0][0].set_title(\"Vertical-vertical band\")\n",
    "    ax[0][1].imshow(numpy_mask(vh_path))\n",
    "    ax[0][1].set_title(\"Vertical-horizontal band\")\n",
    "    \n",
    "    # Visualize features\n",
    "    ax[1][0].imshow(s1_img, cmap=\"gray\")\n",
    "    ax[1][0].set_title(\"False color composite image\", fontsize=14)\n",
    "\n",
    "    # Load water mask\n",
    "    with rasterio.open(label_path) as lp:\n",
    "        lp_img = lp.read(1)\n",
    "\n",
    "    # Mask missing data and 0s for visualization\n",
    "    label = np.ma.masked_where((lp_img == 0) | (lp_img == 255), lp_img)\n",
    "\n",
    "    #visualize answer\n",
    "    #ax[1][1].imshow(s1_img)\n",
    "    ax[1][1].imshow(label, cmap=\"cool\")\n",
    "    ax[1][1].set_title(\"Image with WaterLabel\", fontsize=14)\n",
    "\n",
    "    #plt.tight_layout(pad=5)\n",
    "    plt.show()"
   ]
  },
  {
   "cell_type": "code",
   "execution_count": null,
   "id": "3f3ab369",
   "metadata": {},
   "outputs": [],
   "source": [
    "display_chip(3)"
   ]
  },
  {
   "cell_type": "markdown",
   "id": "e76c7bb6",
   "metadata": {},
   "source": [
    "## Check if the data is well distributed between the flood events"
   ]
  },
  {
   "cell_type": "code",
   "execution_count": null,
   "id": "d9bebe0a",
   "metadata": {},
   "outputs": [],
   "source": [
    "def count_pixel(path, value):\n",
    "    with rasterio.open(path) as img:\n",
    "        data = img.read(1)\n",
    "    return (data == value).sum()"
   ]
  },
  {
   "cell_type": "code",
   "execution_count": null,
   "id": "72649da4",
   "metadata": {},
   "outputs": [],
   "source": [
    "#count the number of white, black and missing pixels in every image\n",
    "# Examine an arbitrary image\n",
    "for path in train_metadata['label_path'].to_list():\n",
    "    train_metadata.loc[train_metadata['label_path'] == path, 'no_flood_%'] = count_pixel(path, 0)/(512*512)\n",
    "    train_metadata.loc[train_metadata['label_path'] == path, 'flood_%'] = count_pixel(path, 1)/(512*512)\n",
    "    train_metadata.loc[train_metadata['label_path'] == path, 'missing_%'] = count_pixel(path, 255)/(512*512)\n",
    "    \n",
    "train_metadata[['image_id', 'location', 'no_flood_%', 'flood_%', 'missing_%']]"
   ]
  },
  {
   "cell_type": "code",
   "execution_count": null,
   "id": "846be776",
   "metadata": {},
   "outputs": [],
   "source": [
    "df = train_metadata.groupby('flood_id', as_index=False).agg(np.mean)\n",
    "df.describe()"
   ]
  },
  {
   "cell_type": "code",
   "execution_count": null,
   "id": "3149e5bf",
   "metadata": {},
   "outputs": [],
   "source": [
    "import seaborn as sns\n",
    "order = train_metadata.groupby('flood_id').agg(np.mean).index.to_list()\n",
    "fig, ax = plt.subplots(4,1, figsize=(15,20))\n",
    "sns.boxplot(x=\"flood_id\", y=\"flood_%\", data=train_metadata, order=order, ax=ax[0])\n",
    "ax[0].set_title('flood_id vs flood_%');\n",
    "sns.boxplot(x=\"flood_id\", y=\"no_flood_%\", data=train_metadata, order=order, ax=ax[1])\n",
    "ax[1].set_title('flood_id vs no_flood_%');\n",
    "sns.boxplot(x=\"flood_id\", y=\"missing_%\", data=train_metadata, order=order, ax=ax[2])\n",
    "ax[2].set_title('flood_id vs missing_%');\n",
    "sns.countplot(x=\"flood_id\", data=train_metadata, order=order, ax=ax[3])\n",
    "ax[1].set_title('Count of flood_id');\n",
    "plt.show()"
   ]
  }
 ],
 "metadata": {
  "kernelspec": {
   "display_name": "Python 3",
   "language": "python",
   "name": "python3"
  },
  "language_info": {
   "codemirror_mode": {
    "name": "ipython",
    "version": 3
   },
   "file_extension": ".py",
   "mimetype": "text/x-python",
   "name": "python",
   "nbconvert_exporter": "python",
   "pygments_lexer": "ipython3",
   "version": "3.9.6"
  }
 },
 "nbformat": 4,
 "nbformat_minor": 5
}
