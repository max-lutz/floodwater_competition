{
 "cells": [
  {
   "cell_type": "code",
   "execution_count": 11,
   "id": "ee1cd18e",
   "metadata": {},
   "outputs": [],
   "source": [
    "# https://github.com/microsoft/PlanetaryComputerExamples/blob/main/competitions/s1floods/generate_auxiliary_input.ipynb\n",
    "\n",
    "from dataclasses import dataclass\n",
    "import os\n",
    "from tempfile import TemporaryDirectory\n",
    "from typing import List, Any, Dict\n",
    "\n",
    "from shapely.geometry import box, mapping\n",
    "import rasterio\n",
    "from rasterio.warp import reproject, Resampling\n",
    "import pyproj\n",
    "from osgeo import gdal\n",
    "\n",
    "from pystac_client import Client\n",
    "import planetary_computer as pc\n",
    "from pathlib import Path"
   ]
  },
  {
   "cell_type": "markdown",
   "id": "bb676d30",
   "metadata": {},
   "source": [
    "## Get the path to all training files"
   ]
  },
  {
   "cell_type": "code",
   "execution_count": 14,
   "id": "85f130f9",
   "metadata": {},
   "outputs": [],
   "source": [
    "DATA_PATH = Path.cwd().parent / \"data\" / \"raw\" / \"train_features\" / \"train_features\""
   ]
  },
  {
   "cell_type": "code",
   "execution_count": 15,
   "id": "becd1a2d",
   "metadata": {},
   "outputs": [
    {
     "name": "stdout",
     "output_type": "stream",
     "text": [
      "542 chips found.\n"
     ]
    }
   ],
   "source": [
    "chip_paths = []\n",
    "for file_name in os.listdir(DATA_PATH):\n",
    "    if file_name.endswith(\"_vv.tif\"):\n",
    "        chip_paths.append(os.path.join(DATA_PATH, file_name))\n",
    "print(f\"{len(chip_paths)} chips found.\")"
   ]
  },
  {
   "cell_type": "markdown",
   "id": "7abb851c",
   "metadata": {},
   "source": [
    "## Connect to the planetary computer API"
   ]
  },
  {
   "cell_type": "code",
   "execution_count": 16,
   "id": "11797668",
   "metadata": {},
   "outputs": [],
   "source": [
    "STAC_API = \"https://planetarycomputer.microsoft.com/api/stac/v1\"\n",
    "catalog = Client.open(STAC_API)"
   ]
  },
  {
   "cell_type": "markdown",
   "id": "7ba22ed5",
   "metadata": {},
   "source": [
    "## Define functions and class"
   ]
  },
  {
   "cell_type": "code",
   "execution_count": 17,
   "id": "01a7c9a9",
   "metadata": {},
   "outputs": [],
   "source": [
    "@dataclass\n",
    "class ChipInfo:\n",
    "    \"\"\"\n",
    "    Holds information about a training chip, including geospatial info for coregistration\n",
    "    \"\"\"\n",
    "\n",
    "    path: str\n",
    "    prefix: str\n",
    "    crs: Any\n",
    "    shape: List[int]\n",
    "    transform: List[float]\n",
    "    bounds: rasterio.coords.BoundingBox\n",
    "    footprint: Dict[str, Any]\n",
    "\n",
    "\n",
    "def get_footprint(bounds, crs):\n",
    "    \"\"\"Gets a GeoJSON footprint (in epsg:4326) from rasterio bounds and CRS\"\"\"\n",
    "    transformer = pyproj.Transformer.from_crs(crs, \"epsg:4326\", always_xy=True)\n",
    "    minx, miny = transformer.transform(bounds.left, bounds.bottom)\n",
    "    maxx, maxy = transformer.transform(bounds.right, bounds.top)\n",
    "    return mapping(box(minx, miny, maxx, maxy))\n",
    "\n",
    "def get_chip_info(chip_path):\n",
    "    \"\"\"Gets chip info from a GeoTIFF file\"\"\"\n",
    "    with rasterio.open(chip_path) as ds:\n",
    "        chip_crs = ds.crs\n",
    "        chip_shape = ds.shape\n",
    "        chip_transform = ds.transform\n",
    "        chip_bounds = ds.bounds\n",
    "\n",
    "    # Use the first part of the chip filename as a prefix\n",
    "    prefix = os.path.basename(chip_path).split(\"_\")[0]\n",
    "\n",
    "    return ChipInfo(\n",
    "        path=chip_path,\n",
    "        prefix=prefix,\n",
    "        crs=chip_crs,\n",
    "        shape=chip_shape,\n",
    "        transform=chip_transform,\n",
    "        bounds=chip_bounds,\n",
    "        footprint=get_footprint(chip_bounds, chip_crs),\n",
    "    )"
   ]
  },
  {
   "cell_type": "code",
   "execution_count": 18,
   "id": "b6ba7e2a",
   "metadata": {},
   "outputs": [],
   "source": [
    "def reproject_to_chip(\n",
    "    chip_info, input_path, output_path, resampling=Resampling.nearest\n",
    "):\n",
    "    \"\"\"\n",
    "    Reproject a raster at input_path to chip_info, saving to output_path.\n",
    "\n",
    "    Use Resampling.nearest for classification rasters. Otherwise use something\n",
    "    like Resampling.bilinear for continuous data.\n",
    "    \"\"\"\n",
    "    with rasterio.open(input_path) as src:\n",
    "        kwargs = src.meta.copy()\n",
    "        kwargs.update(\n",
    "            {\n",
    "                \"crs\": chip_info.crs,\n",
    "                \"transform\": chip_info.transform,\n",
    "                \"width\": chip_info.shape[1],\n",
    "                \"height\": chip_info.shape[0],\n",
    "                \"driver\": \"GTiff\",\n",
    "            }\n",
    "        )\n",
    "\n",
    "        with rasterio.open(output_path, \"w\", **kwargs) as dst:\n",
    "            for i in range(1, src.count + 1):\n",
    "                reproject(\n",
    "                    source=rasterio.band(src, i),\n",
    "                    destination=rasterio.band(dst, i),\n",
    "                    src_transform=src.transform,\n",
    "                    src_crs=src.crs,\n",
    "                    dst_transform=chip_info.transform,\n",
    "                    dst_crs=chip_info.crs,\n",
    "                    resampling=Resampling.nearest,\n",
    "                )"
   ]
  },
  {
   "cell_type": "code",
   "execution_count": 19,
   "id": "ddfd939c",
   "metadata": {},
   "outputs": [],
   "source": [
    "def write_vrt(items, asset_key, dest_path):\n",
    "    \"\"\"Write a VRT with hrefs extracted from a list of items for a specific asset.\"\"\"\n",
    "    hrefs = [pc.sign(item.assets[asset_key].href) for item in items]\n",
    "    vsi_hrefs = [f\"/vsicurl/{href}\" for href in hrefs]\n",
    "    gdal.BuildVRT(dest_path, vsi_hrefs).FlushCache()"
   ]
  },
  {
   "cell_type": "code",
   "execution_count": 25,
   "id": "bfd29e81",
   "metadata": {},
   "outputs": [],
   "source": [
    "def create_chip_aux_file(\n",
    "    chip_info, collection_id, asset_key, file_name, resampling=Resampling.nearest\n",
    "):\n",
    "    \"\"\"\n",
    "    Write an auxiliary chip file.\n",
    "\n",
    "    The auxiliary chip file includes chip_info for the Collection and Asset, and is\n",
    "    saved in the same directory as the original chip with the given file_name.\n",
    "    \"\"\"\n",
    "    \n",
    "    #output_path = Path.cwd().parent / \"data\" / \"external\" / f\"{chip_info.prefix}_{file_name}\"\n",
    "    output_path = os.path.join(\n",
    "        os.path.dirname(chip_info.path), f\"{chip_info.prefix}_{file_name}\"\n",
    "    )\n",
    "    search = catalog.search(collections=[collection_id], intersects=chip_info.footprint)\n",
    "    items = list(search.get_items())\n",
    "    with TemporaryDirectory() as tmp_dir:\n",
    "        vrt_path = os.path.join(tmp_dir, \"source.vrt\")\n",
    "        write_vrt(items, asset_key, vrt_path)\n",
    "        reproject_to_chip(chip_info, vrt_path, output_path, resampling=resampling)\n",
    "    return output_path"
   ]
  },
  {
   "cell_type": "code",
   "execution_count": 26,
   "id": "3a69c44e",
   "metadata": {},
   "outputs": [],
   "source": [
    "# Define a set of parameters to pass into create_chip_aux_file\n",
    "aux_file_params = [\n",
    "    (\"nasadem\", \"elevation\", \"nasadem.tif\", Resampling.bilinear),\n",
    "    (\"jrc-gsw\", \"extent\", \"jrc-gsw-extent.tif\", Resampling.nearest),\n",
    "    (\"jrc-gsw\", \"occurrence\", \"jrc-gsw-occurrence.tif\", Resampling.nearest),\n",
    "    (\"jrc-gsw\", \"recurrence\", \"jrc-gsw-recurrence.tif\", Resampling.nearest),\n",
    "    (\"jrc-gsw\", \"seasonality\", \"jrc-gsw-seasonality.tif\", Resampling.nearest),\n",
    "    (\"jrc-gsw\", \"transitions\", \"jrc-gsw-transitions.tif\", Resampling.nearest),\n",
    "    (\"jrc-gsw\", \"change\", \"jrc-gsw-change.tif\", Resampling.nearest),\n",
    "]"
   ]
  },
  {
   "cell_type": "code",
   "execution_count": 27,
   "id": "e8a5d501",
   "metadata": {},
   "outputs": [
    {
     "name": "stdout",
     "output_type": "stream",
     "text": [
      "(1 of 542) C:\\Users\\maxlu\\Desktop\\Machine_Learning\\PROJECTS\\DRIVENDATA\\floodwater_competition\\data\\raw\\train_features\\train_features\\awc00_vv.tif\n",
      "  ... Creating chip data for nasadem elevation\n"
     ]
    },
    {
     "ename": "NotImplementedError",
     "evalue": "ConformanceClasses.ITEM_SEARCH not supported",
     "output_type": "error",
     "traceback": [
      "\u001b[1;31m---------------------------------------------------------------------------\u001b[0m",
      "\u001b[1;31mNotImplementedError\u001b[0m                       Traceback (most recent call last)",
      "\u001b[1;32m<ipython-input-27-688dbdd85aa9>\u001b[0m in \u001b[0;36m<module>\u001b[1;34m\u001b[0m\n\u001b[0;32m      6\u001b[0m     \u001b[1;32mfor\u001b[0m \u001b[0mcollection_id\u001b[0m\u001b[1;33m,\u001b[0m \u001b[0masset_key\u001b[0m\u001b[1;33m,\u001b[0m \u001b[0mfile_name\u001b[0m\u001b[1;33m,\u001b[0m \u001b[0mresampling_method\u001b[0m \u001b[1;32min\u001b[0m \u001b[0maux_file_params\u001b[0m\u001b[1;33m:\u001b[0m\u001b[1;33m\u001b[0m\u001b[1;33m\u001b[0m\u001b[0m\n\u001b[0;32m      7\u001b[0m         \u001b[0mprint\u001b[0m\u001b[1;33m(\u001b[0m\u001b[1;34mf\"  ... Creating chip data for {collection_id} {asset_key}\"\u001b[0m\u001b[1;33m)\u001b[0m\u001b[1;33m\u001b[0m\u001b[1;33m\u001b[0m\u001b[0m\n\u001b[1;32m----> 8\u001b[1;33m         create_chip_aux_file(\n\u001b[0m\u001b[0;32m      9\u001b[0m             \u001b[0mchip_info\u001b[0m\u001b[1;33m,\u001b[0m \u001b[0mcollection_id\u001b[0m\u001b[1;33m,\u001b[0m \u001b[0masset_key\u001b[0m\u001b[1;33m,\u001b[0m \u001b[0mfile_name\u001b[0m\u001b[1;33m,\u001b[0m \u001b[0mresampling\u001b[0m\u001b[1;33m=\u001b[0m\u001b[0mresampling_method\u001b[0m\u001b[1;33m\u001b[0m\u001b[1;33m\u001b[0m\u001b[0m\n\u001b[0;32m     10\u001b[0m         )\n",
      "\u001b[1;32m<ipython-input-25-209216f40478>\u001b[0m in \u001b[0;36mcreate_chip_aux_file\u001b[1;34m(chip_info, collection_id, asset_key, file_name, resampling)\u001b[0m\n\u001b[0;32m     13\u001b[0m         \u001b[0mos\u001b[0m\u001b[1;33m.\u001b[0m\u001b[0mpath\u001b[0m\u001b[1;33m.\u001b[0m\u001b[0mdirname\u001b[0m\u001b[1;33m(\u001b[0m\u001b[0mchip_info\u001b[0m\u001b[1;33m.\u001b[0m\u001b[0mpath\u001b[0m\u001b[1;33m)\u001b[0m\u001b[1;33m,\u001b[0m \u001b[1;34mf\"{chip_info.prefix}_{file_name}\"\u001b[0m\u001b[1;33m\u001b[0m\u001b[1;33m\u001b[0m\u001b[0m\n\u001b[0;32m     14\u001b[0m     )\n\u001b[1;32m---> 15\u001b[1;33m     \u001b[0msearch\u001b[0m \u001b[1;33m=\u001b[0m \u001b[0mcatalog\u001b[0m\u001b[1;33m.\u001b[0m\u001b[0msearch\u001b[0m\u001b[1;33m(\u001b[0m\u001b[0mcollections\u001b[0m\u001b[1;33m=\u001b[0m\u001b[1;33m[\u001b[0m\u001b[0mcollection_id\u001b[0m\u001b[1;33m]\u001b[0m\u001b[1;33m,\u001b[0m \u001b[0mintersects\u001b[0m\u001b[1;33m=\u001b[0m\u001b[0mchip_info\u001b[0m\u001b[1;33m.\u001b[0m\u001b[0mfootprint\u001b[0m\u001b[1;33m)\u001b[0m\u001b[1;33m\u001b[0m\u001b[1;33m\u001b[0m\u001b[0m\n\u001b[0m\u001b[0;32m     16\u001b[0m     \u001b[0mitems\u001b[0m \u001b[1;33m=\u001b[0m \u001b[0mlist\u001b[0m\u001b[1;33m(\u001b[0m\u001b[0msearch\u001b[0m\u001b[1;33m.\u001b[0m\u001b[0mget_items\u001b[0m\u001b[1;33m(\u001b[0m\u001b[1;33m)\u001b[0m\u001b[1;33m)\u001b[0m\u001b[1;33m\u001b[0m\u001b[1;33m\u001b[0m\u001b[0m\n\u001b[0;32m     17\u001b[0m     \u001b[1;32mwith\u001b[0m \u001b[0mTemporaryDirectory\u001b[0m\u001b[1;33m(\u001b[0m\u001b[1;33m)\u001b[0m \u001b[1;32mas\u001b[0m \u001b[0mtmp_dir\u001b[0m\u001b[1;33m:\u001b[0m\u001b[1;33m\u001b[0m\u001b[1;33m\u001b[0m\u001b[0m\n",
      "\u001b[1;32m~\\Anaconda3\\envs\\env_floodwater\\lib\\site-packages\\pystac_client\\client.py\u001b[0m in \u001b[0;36msearch\u001b[1;34m(self, **kwargs)\u001b[0m\n\u001b[0;32m    166\u001b[0m                 'No link with \"rel\" type of \"search\" could be found in this catalog')\n\u001b[0;32m    167\u001b[0m \u001b[1;33m\u001b[0m\u001b[0m\n\u001b[1;32m--> 168\u001b[1;33m         \u001b[1;32mreturn\u001b[0m \u001b[0mItemSearch\u001b[0m\u001b[1;33m(\u001b[0m\u001b[0msearch_link\u001b[0m\u001b[1;33m.\u001b[0m\u001b[0mtarget\u001b[0m\u001b[1;33m,\u001b[0m \u001b[0mstac_io\u001b[0m\u001b[1;33m=\u001b[0m\u001b[0mself\u001b[0m\u001b[1;33m.\u001b[0m\u001b[0m_stac_io\u001b[0m\u001b[1;33m,\u001b[0m \u001b[0mclient\u001b[0m\u001b[1;33m=\u001b[0m\u001b[0mself\u001b[0m\u001b[1;33m,\u001b[0m \u001b[1;33m**\u001b[0m\u001b[0mkwargs\u001b[0m\u001b[1;33m)\u001b[0m\u001b[1;33m\u001b[0m\u001b[1;33m\u001b[0m\u001b[0m\n\u001b[0m",
      "\u001b[1;32m~\\Anaconda3\\envs\\env_floodwater\\lib\\site-packages\\pystac_client\\item_search.py\u001b[0m in \u001b[0;36m__init__\u001b[1;34m(self, url, limit, bbox, datetime, intersects, ids, collections, query, sortby, fields, max_items, method, stac_io, client)\u001b[0m\n\u001b[0;32m    171\u001b[0m         \u001b[1;32melse\u001b[0m\u001b[1;33m:\u001b[0m\u001b[1;33m\u001b[0m\u001b[1;33m\u001b[0m\u001b[0m\n\u001b[0;32m    172\u001b[0m             \u001b[0mself\u001b[0m\u001b[1;33m.\u001b[0m\u001b[0m_stac_io\u001b[0m \u001b[1;33m=\u001b[0m \u001b[0mStacApiIO\u001b[0m\u001b[1;33m(\u001b[0m\u001b[1;33m)\u001b[0m\u001b[1;33m\u001b[0m\u001b[1;33m\u001b[0m\u001b[0m\n\u001b[1;32m--> 173\u001b[1;33m         \u001b[0mself\u001b[0m\u001b[1;33m.\u001b[0m\u001b[0m_stac_io\u001b[0m\u001b[1;33m.\u001b[0m\u001b[0massert_conforms_to\u001b[0m\u001b[1;33m(\u001b[0m\u001b[0mConformanceClasses\u001b[0m\u001b[1;33m.\u001b[0m\u001b[0mITEM_SEARCH\u001b[0m\u001b[1;33m)\u001b[0m\u001b[1;33m\u001b[0m\u001b[1;33m\u001b[0m\u001b[0m\n\u001b[0m\u001b[0;32m    174\u001b[0m \u001b[1;33m\u001b[0m\u001b[0m\n\u001b[0;32m    175\u001b[0m         \u001b[0mself\u001b[0m\u001b[1;33m.\u001b[0m\u001b[0m_max_items\u001b[0m \u001b[1;33m=\u001b[0m \u001b[0mmax_items\u001b[0m\u001b[1;33m\u001b[0m\u001b[1;33m\u001b[0m\u001b[0m\n",
      "\u001b[1;32m~\\Anaconda3\\envs\\env_floodwater\\lib\\site-packages\\pystac_client\\stac_api_io.py\u001b[0m in \u001b[0;36massert_conforms_to\u001b[1;34m(self, conformance_class)\u001b[0m\n\u001b[0;32m    212\u001b[0m         \"\"\"\n\u001b[0;32m    213\u001b[0m         \u001b[1;32mif\u001b[0m \u001b[1;32mnot\u001b[0m \u001b[0mself\u001b[0m\u001b[1;33m.\u001b[0m\u001b[0mconforms_to\u001b[0m\u001b[1;33m(\u001b[0m\u001b[0mconformance_class\u001b[0m\u001b[1;33m)\u001b[0m\u001b[1;33m:\u001b[0m\u001b[1;33m\u001b[0m\u001b[1;33m\u001b[0m\u001b[0m\n\u001b[1;32m--> 214\u001b[1;33m             \u001b[1;32mraise\u001b[0m \u001b[0mNotImplementedError\u001b[0m\u001b[1;33m(\u001b[0m\u001b[1;34mf\"{conformance_class} not supported\"\u001b[0m\u001b[1;33m)\u001b[0m\u001b[1;33m\u001b[0m\u001b[1;33m\u001b[0m\u001b[0m\n\u001b[0m\u001b[0;32m    215\u001b[0m         \u001b[1;32melse\u001b[0m\u001b[1;33m:\u001b[0m\u001b[1;33m\u001b[0m\u001b[1;33m\u001b[0m\u001b[0m\n\u001b[0;32m    216\u001b[0m             \u001b[1;32mreturn\u001b[0m \u001b[1;32mTrue\u001b[0m\u001b[1;33m\u001b[0m\u001b[1;33m\u001b[0m\u001b[0m\n",
      "\u001b[1;31mNotImplementedError\u001b[0m: ConformanceClasses.ITEM_SEARCH not supported"
     ]
    }
   ],
   "source": [
    "# Iterate over the chips and generate all aux input files.\n",
    "count = len(chip_paths)\n",
    "for i, chip_path in enumerate(chip_paths):\n",
    "    print(f\"({i+1} of {count}) {chip_path}\")\n",
    "    chip_info = get_chip_info(chip_path)\n",
    "    for collection_id, asset_key, file_name, resampling_method in aux_file_params:\n",
    "        print(f\"  ... Creating chip data for {collection_id} {asset_key}\")\n",
    "        create_chip_aux_file(\n",
    "            chip_info, collection_id, asset_key, file_name, resampling=resampling_method\n",
    "        )"
   ]
  },
  {
   "cell_type": "code",
   "execution_count": null,
   "id": "2346acc1",
   "metadata": {},
   "outputs": [],
   "source": []
  }
 ],
 "metadata": {
  "kernelspec": {
   "display_name": "Python 3",
   "language": "python",
   "name": "python3"
  },
  "language_info": {
   "codemirror_mode": {
    "name": "ipython",
    "version": 3
   },
   "file_extension": ".py",
   "mimetype": "text/x-python",
   "name": "python",
   "nbconvert_exporter": "python",
   "pygments_lexer": "ipython3",
   "version": "3.9.6"
  }
 },
 "nbformat": 4,
 "nbformat_minor": 5
}
