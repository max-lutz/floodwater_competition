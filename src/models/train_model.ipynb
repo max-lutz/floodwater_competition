{
 "cells": [
  {
   "cell_type": "markdown",
   "source": [
    "# Notebook to train the model\n",
    "This notebook train a UNET model based on training data in /data/raw/train_features/\n",
    "\n",
    "There are two parameters to set before starting the notebook.\n",
    "- the model name\n",
    "- the train test split\n",
    "\n",
    "My approach is based on the average of three similar UNET model trained on different data.  \n",
    "By choosing TRAIN_TEST_SPLIT = 1, 2 or three you train one of the three models.\n",
    "\n",
    "\n",
    "Also depending on your memory you might have to change the batch_size.  \n",
    "For me 8 seems to work most of the time."
   ],
   "metadata": {}
  },
  {
   "cell_type": "code",
   "execution_count": null,
   "source": [
    "MODEL_NAME = \"test_1.h5\"    #here you can choose the name of the h5 file where the model fill be saved\r\n",
    "TRAIN_TEST_SPLIT = 1        #here you can choose the train/test split. Possible choice: 1, 2 or 3"
   ],
   "outputs": [],
   "metadata": {}
  },
  {
   "cell_type": "markdown",
   "source": [
    "## Importing libraries"
   ],
   "metadata": {}
  },
  {
   "cell_type": "code",
   "execution_count": null,
   "source": [
    "import os\r\n",
    "import random\r\n",
    "import pandas as pd\r\n",
    "import numpy as np\r\n",
    "import numpy.ma as ma\r\n",
    "import matplotlib.pyplot as plt\r\n",
    "plt.style.use(\"ggplot\")\r\n",
    "%matplotlib inline\r\n",
    "\r\n",
    "from IPython.display import HTML, display\r\n",
    "\r\n",
    "from pathlib import Path\r\n",
    "!pip install pandas_path\r\n",
    "from pandas_path import path\r\n",
    "\r\n",
    "!pip install rasterio\r\n",
    "import rasterio\r\n",
    "\r\n",
    "import albumentations\r\n",
    "from skimage.morphology import label\r\n",
    "\r\n",
    "import tensorflow as tf\r\n",
    "\r\n",
    "import keras.backend as K\r\n",
    "from keras.models import Model\r\n",
    "from keras.layers import Input, BatchNormalization, Activation, Dropout\r\n",
    "from keras.layers.convolutional import Conv2D, Conv2DTranspose\r\n",
    "from keras.layers.pooling import MaxPooling2D\r\n",
    "from keras.layers.merge import concatenate\r\n",
    "from keras.callbacks import EarlyStopping, ModelCheckpoint, ReduceLROnPlateau\r\n",
    "from tensorflow.keras.optimizers import Adam"
   ],
   "outputs": [],
   "metadata": {
    "colab": {
     "base_uri": "https://localhost:8080/"
    },
    "id": "ed9d11c1",
    "outputId": "427e9a8c-8bda-4ff2-fbe6-3ca28e67723c"
   }
  },
  {
   "cell_type": "markdown",
   "source": [
    "## Only for training on google colab"
   ],
   "metadata": {}
  },
  {
   "cell_type": "code",
   "execution_count": null,
   "source": [
    "#tf.test.gpu_device_name()"
   ],
   "outputs": [],
   "metadata": {
    "colab": {
     "base_uri": "https://localhost:8080/",
     "height": 35
    },
    "id": "VBjgAUsKifaW",
    "outputId": "ce46239f-6f0e-4089-f2ad-c03fa24cfe06"
   }
  },
  {
   "cell_type": "code",
   "execution_count": null,
   "source": [
    "#from google.colab import drive\r\n",
    "#drive.mount('/content/drive')"
   ],
   "outputs": [],
   "metadata": {
    "colab": {
     "base_uri": "https://localhost:8080/"
    },
    "id": "xJBCecyV7goE",
    "outputId": "b5048e3f-cfbc-44d6-bbe8-dd7482bc18a9"
   }
  },
  {
   "cell_type": "code",
   "execution_count": null,
   "source": [
    "#DATA_PATH = Path.cwd().parent / \"content\" / \"drive\" / \"MyDrive\" / \"DATA SCIENCE\" / \"data google colab\" / \"floodwater\" / \"train_features\""
   ],
   "outputs": [],
   "metadata": {}
  },
  {
   "cell_type": "markdown",
   "source": [
    "## Load the training dataframe"
   ],
   "metadata": {
    "id": "6604c660"
   }
  },
  {
   "cell_type": "code",
   "execution_count": null,
   "source": [
    "img_size = 512"
   ],
   "outputs": [],
   "metadata": {
    "id": "w3-kRONT6sM9"
   }
  },
  {
   "cell_type": "code",
   "execution_count": null,
   "source": [
    "# This is where our downloaded images and metadata live locally\r\n",
    "DATA_PATH = Path.cwd().parent.parent / \"data\" / \"raw\" / \"train_features\"\r\n",
    "ADDITIONAL_DATA_PATH = Path.cwd().parent.parent / \"data\" / \"external\"\r\n",
    "train_metadata = pd.read_csv(\r\n",
    "    DATA_PATH / \"flood-training-metadata.csv\", parse_dates=[\"scene_start\"]\r\n",
    ")"
   ],
   "outputs": [],
   "metadata": {
    "id": "6a3bce35"
   }
  },
  {
   "cell_type": "code",
   "execution_count": null,
   "source": [
    "#adding the path to the images and labels in the dataframe\r\n",
    "train_metadata[\"feature_path\"] = (str(DATA_PATH / \"train_features\")\r\n",
    "    / train_metadata.image_id.path.with_suffix(\".tif\").path)\r\n",
    "\r\n",
    "train_metadata[\"change\"] = (str(ADDITIONAL_DATA_PATH / \"jrc_change\")\r\n",
    "    / train_metadata.chip_id.path.with_suffix(\".tif\").path)\r\n",
    "\r\n",
    "train_metadata[\"extent\"] = (str(ADDITIONAL_DATA_PATH / \"jrc_extent\")\r\n",
    "    / train_metadata.chip_id.path.with_suffix(\".tif\").path)\r\n",
    "\r\n",
    "train_metadata[\"occurrence\"] = (str(ADDITIONAL_DATA_PATH / \"jrc_occurrence\")\r\n",
    "    / train_metadata.chip_id.path.with_suffix(\".tif\").path)\r\n",
    "\r\n",
    "train_metadata[\"recurrence\"] = (str(ADDITIONAL_DATA_PATH / \"jrc_recurrence\")\r\n",
    "    / train_metadata.chip_id.path.with_suffix(\".tif\").path)\r\n",
    "\r\n",
    "train_metadata[\"seasonality\"] = (str(ADDITIONAL_DATA_PATH / \"jrc_seasonality\")\r\n",
    "    / train_metadata.chip_id.path.with_suffix(\".tif\").path)\r\n",
    "\r\n",
    "train_metadata[\"transitions\"] = (str(ADDITIONAL_DATA_PATH / \"jrc_transitions\")\r\n",
    "    / train_metadata.chip_id.path.with_suffix(\".tif\").path)\r\n",
    "\r\n",
    "train_metadata[\"nasadem\"] = (str(ADDITIONAL_DATA_PATH / \"nasadem\")\r\n",
    "    / train_metadata.chip_id.path.with_suffix(\".tif\").path)\r\n",
    "\r\n",
    "train_metadata[\"label_path\"] = (str(DATA_PATH / \"train_labels\")\r\n",
    "    / train_metadata.chip_id.path.with_suffix(\".tif\").path)"
   ],
   "outputs": [],
   "metadata": {
    "id": "124f9f14"
   }
  },
  {
   "cell_type": "markdown",
   "source": [
    "## Split the training data into train and test\n",
    "We split the train test dataset in three different ways depending on the model we are building.\n",
    "At the end we average the prediction of the three models."
   ],
   "metadata": {
    "id": "e6b2509d"
   }
  },
  {
   "cell_type": "code",
   "execution_count": null,
   "source": [
    "test_ids = [['kuo', 'wvy', 'awc'] , ['coz', 'qxb', 'ayt'] , ['hbe', 'jja']]\n",
    "val_flood_ids = test_ids[TRAIN_TEST_SPLIT-1]\n",
    "val_flood_ids"
   ],
   "outputs": [],
   "metadata": {
    "colab": {
     "base_uri": "https://localhost:8080/"
    },
    "id": "20b905d7",
    "outputId": "d8124fe0-4e89-4a36-ebd1-2abfd7cb11d3"
   }
  },
  {
   "cell_type": "code",
   "execution_count": null,
   "source": [
    "test = train_metadata[train_metadata.flood_id.isin(val_flood_ids)]\n",
    "train = train_metadata[~train_metadata.flood_id.isin(val_flood_ids)]"
   ],
   "outputs": [],
   "metadata": {
    "id": "c6a1fbc8"
   }
  },
  {
   "cell_type": "code",
   "execution_count": null,
   "source": [
    "def get_paths_by_chip(image_level_df):\n",
    "    \"\"\"\n",
    "    Function that take as input the meta_dataframe\n",
    "    and return a dataframe with the chip id and both path for vv and vh.\n",
    "    \"\"\"\n",
    "    \n",
    "    paths = []\n",
    "    for chip, group in image_level_df.groupby(\"chip_id\"):\n",
    "        vv_path = group[group.polarization == \"vv\"][\"feature_path\"].values[0]\n",
    "        vh_path = group[group.polarization == \"vh\"][\"feature_path\"].values[0]\n",
    "        nasadem_path = group[\"nasadem\"].values[0]\n",
    "        change_path = group[\"change\"].values[0]\n",
    "        extent_path = group[\"extent\"].values[0]\n",
    "        occurrence_path = group[\"occurrence\"].values[0]\n",
    "        recurrence_path = group[\"recurrence\"].values[0]\n",
    "        seasonality_path = group[\"seasonality\"].values[0]\n",
    "        transitions_path = group[\"transitions\"].values[0]\n",
    "        paths.append([chip, vv_path, vh_path, nasadem_path, change_path, extent_path, occurrence_path, recurrence_path,\n",
    "                      seasonality_path, transitions_path])\n",
    "    return pd.DataFrame(paths, columns=[\"chip_id\", \"vv_path\", \"vh_path\", \"nasadem_path\", \"change_path\", \"extent_path\", \"occurrence_path\",\n",
    "                                        \"recurrence_path\", \"seasonality_path\", \"transitions_path\"])"
   ],
   "outputs": [],
   "metadata": {
    "id": "c9bb058d"
   }
  },
  {
   "cell_type": "code",
   "execution_count": null,
   "source": [
    "# Separate features from labels\n",
    "test_meta_x = get_paths_by_chip(test)\n",
    "test_meta_y = test[[\"chip_id\", \"label_path\"]].drop_duplicates().reset_index(drop=True)\n",
    "\n",
    "train_meta_x = get_paths_by_chip(train)\n",
    "train_meta_y = train[[\"chip_id\", \"label_path\"]].drop_duplicates().reset_index(drop=True)"
   ],
   "outputs": [],
   "metadata": {
    "id": "dd7e8b49"
   }
  },
  {
   "cell_type": "code",
   "execution_count": null,
   "source": [
    "train_meta_x"
   ],
   "outputs": [],
   "metadata": {
    "colab": {
     "base_uri": "https://localhost:8080/",
     "height": 605
    },
    "id": "RvRFbu8vDH52",
    "outputId": "91697105-c64b-45cf-cf14-24e0add983e6"
   }
  },
  {
   "cell_type": "markdown",
   "source": [
    "## Get the images from the train and test metadata"
   ],
   "metadata": {
    "id": "d5d72bcf"
   }
  },
  {
   "cell_type": "code",
   "execution_count": null,
   "source": [
    "def progress(value, max=100):\n",
    "    return HTML(\"\"\"\n",
    "        <progress value='{value}', max='{max}', style='width: 100%'> {value} </progress>\n",
    "    \"\"\".format(value=value, max=max))"
   ],
   "outputs": [],
   "metadata": {
    "id": "Q15ZfTHDusc5"
   }
  },
  {
   "cell_type": "code",
   "execution_count": null,
   "source": [
    "def numpy_mask(image_path):\n",
    "    with rasterio.open(image_path) as img:\n",
    "        return img.read(1, masked=True)"
   ],
   "outputs": [],
   "metadata": {
    "id": "eb8480e8"
   }
  },
  {
   "cell_type": "code",
   "execution_count": null,
   "source": [
    "def get_images(feature_path, label_path):\n",
    "    features = []\n",
    "    labels = []\n",
    "    masks = []\n",
    "\n",
    "    #progress bar\n",
    "    out1 = display(progress(0, 100), display_id=True)\n",
    "    out2 = display(progress(0, 100), display_id=True)\n",
    "\n",
    "    paths = label_path['label_path'].to_list()\n",
    "    nb_cols = len(paths)\n",
    "    #load labels\n",
    "    for i in range(nb_cols):\n",
    "        with rasterio.open(paths[i]) as lp:\n",
    "            img = lp.read(1)\n",
    "\n",
    "        #create a list of mask for missing pixels\n",
    "        mask = np.zeros(img.shape, dtype=np.uint8)\n",
    "        mask[np.where(img == 255)] = 1\n",
    "\n",
    "        labels.append(ma.array(img.astype('float32'), mask = mask))\n",
    "        masks.append(mask)\n",
    "\n",
    "        out2.update(progress((i/nb_cols)*100, 100))\n",
    "\n",
    "    #load features\n",
    "    cols = [\"vv_path\", \"vh_path\", \"nasadem_path\", \"change_path\", \"extent_path\", \"seasonality_path\", \"occurrence_path\", \"recurrence_path\", \"transitions_path\"]\n",
    "    nb_cols = len(feature_path)\n",
    "    for row in range(nb_cols) :\n",
    "      images = []\n",
    "      for col in cols:\n",
    "        with rasterio.open(feature_path.loc[row, col]) as img:\n",
    "          #load the tif file\n",
    "          if(col in [\"vv_path\", \"vh_path\"]):\n",
    "              #apply transformation: clip values out of -30;0 range and map them to 0; 255 range then convert to uint8\n",
    "              images.append(ma.array(np.uint8(np.clip(img.read(1), -30, 0)*(-8.4)), mask = masks[row]))\n",
    "          elif col == \"nasadem_path\":\n",
    "              #clip values > 255 and converto to uint8\n",
    "              images.append(ma.array(np.uint8(np.clip(img.read(1), 0, 255)), mask = masks[row]))\n",
    "          else:\n",
    "              #no transformation, values are already between 0 and 255 and in uint8 format\n",
    "              images.append(ma.array(img.read(1), mask = masks[row]))\n",
    "          #apply the mask\n",
    "            #img = ma.array(img, mask = masks[row])\n",
    "          #stack the images in one array\n",
    "          #images.append(img)\n",
    "      features.append(np.stack(images, axis=-1))\n",
    "      out2.update(progress((row/nb_cols)*100, 100))       \n",
    "            \n",
    "    return np.array(features), np.array(labels)"
   ],
   "outputs": [],
   "metadata": {
    "id": "cd038083"
   }
  },
  {
   "cell_type": "code",
   "execution_count": null,
   "source": [
    "train_x, train_y = get_images(train_meta_x, train_meta_y)\n",
    "test_x, test_y = get_images(test_meta_x, test_meta_y)"
   ],
   "outputs": [],
   "metadata": {
    "colab": {
     "base_uri": "https://localhost:8080/",
     "height": 84
    },
    "id": "4a845e32",
    "outputId": "4e71f676-ffcb-4f07-a5ea-76cb6f4ad600"
   }
  },
  {
   "cell_type": "code",
   "execution_count": null,
   "source": [
    "(train_x.shape, train_y.shape, test_x.shape, test_y.shape)"
   ],
   "outputs": [],
   "metadata": {
    "colab": {
     "base_uri": "https://localhost:8080/"
    },
    "id": "c3c2fba1",
    "outputId": "6263796b-a0a4-46c1-e479-0faf3cd657e9"
   }
  },
  {
   "cell_type": "markdown",
   "source": [
    "## Image augmentation"
   ],
   "metadata": {
    "id": "cku48629Blzo"
   }
  },
  {
   "cell_type": "code",
   "execution_count": null,
   "source": [
    "random.seed(0)\n",
    "\n",
    "transform = albumentations.Compose(\n",
    "    [\n",
    "        #albumentations.RandomCrop(256, 256),\n",
    "        albumentations.RandomRotate90(),\n",
    "        albumentations.HorizontalFlip(),\n",
    "        albumentations.VerticalFlip(),\n",
    "    ]\n",
    ")"
   ],
   "outputs": [],
   "metadata": {
    "id": "bJ19fBiWBoHa"
   }
  },
  {
   "cell_type": "code",
   "execution_count": null,
   "source": [
    "train_x_aug = []\n",
    "train_y_aug = []\n",
    "for i in range(len(train_x)):\n",
    "  t = transform(image=train_x[i], mask=train_y[i])\n",
    "  train_x_aug.append(t['image'])\n",
    "  train_y_aug.append(t['mask'])\n",
    "\n",
    "train_x_aug = np.array(train_x_aug)\n",
    "train_y_aug = np.array(train_y_aug)"
   ],
   "outputs": [],
   "metadata": {
    "id": "fLcwIoAmBoKM"
   }
  },
  {
   "cell_type": "code",
   "execution_count": null,
   "source": [
    "train_x_aug.shape"
   ],
   "outputs": [],
   "metadata": {
    "colab": {
     "base_uri": "https://localhost:8080/"
    },
    "id": "5XqtaAvsBoMa",
    "outputId": "8f0e2390-db7b-4719-b283-74c9960920c4"
   }
  },
  {
   "cell_type": "markdown",
   "source": [
    "## Display the images and the corresponding augmented image"
   ],
   "metadata": {
    "id": "bCPlgy588QgT"
   }
  },
  {
   "cell_type": "code",
   "execution_count": null,
   "source": [
    "f, ax = plt.subplots(2, 3, figsize=(15, 15))\n",
    "\n",
    "id = 2\n",
    "#visualize radar image\n",
    "ax[0][0].imshow(train_x[id, :, :, 0])\n",
    "ax[0][0].set_title(\"Vertical-vertical band\")\n",
    "\n",
    "ax[0][1].imshow(train_x[id, :, :, 1])\n",
    "ax[0][1].set_title(\"Vertical-horizontal band\")\n",
    "\n",
    "ax[0][2].imshow(train_y[id])\n",
    "ax[0][2].set_title(\"label\")\n",
    "\n",
    "ax[1][0].imshow(train_x_aug[id, :, :, 0])\n",
    "ax[1][0].set_title(\"augmented Vertical-vertical band\")\n",
    "\n",
    "ax[1][1].imshow(train_x_aug[id, :, :, 1])\n",
    "ax[1][1].set_title(\"augmented Vertical-horizontal band\")\n",
    "\n",
    "ax[1][2].imshow(train_y_aug[id])\n",
    "ax[1][2].set_title(\"augmented label\")\n",
    "\n",
    "plt.show()"
   ],
   "outputs": [],
   "metadata": {
    "colab": {
     "base_uri": "https://localhost:8080/",
     "height": 756
    },
    "id": "de18b02f",
    "outputId": "320c8a83-9d69-4812-b42d-091a86d7d679"
   }
  },
  {
   "cell_type": "markdown",
   "source": [
    "# Concatenate training data and augmented data"
   ],
   "metadata": {
    "id": "8XVrj8VGHqHE"
   }
  },
  {
   "cell_type": "code",
   "execution_count": null,
   "source": [
    "train_x_final = np.concatenate((train_x, train_x_aug))\n",
    "train_y_final = np.concatenate((train_y, train_y_aug))"
   ],
   "outputs": [],
   "metadata": {
    "id": "WbYk5o8kHqX9"
   }
  },
  {
   "cell_type": "code",
   "execution_count": null,
   "source": [
    "(train_x_final.shape, train_y_final.shape)"
   ],
   "outputs": [],
   "metadata": {
    "colab": {
     "base_uri": "https://localhost:8080/"
    },
    "id": "Coa2KFU6H5kI",
    "outputId": "8216a8ca-cbd5-4255-9218-4cfadc51c607"
   }
  },
  {
   "cell_type": "markdown",
   "source": [
    "# Define loss function"
   ],
   "metadata": {
    "id": "qe7cAeXmOAk-"
   }
  },
  {
   "cell_type": "code",
   "execution_count": null,
   "source": [
    "# https://gist.github.com/wassname/7793e2058c5c9dacb5212c0ac0b18a8a\n",
    "def DiceLoss_square(y_true, y_pred, smooth=1):\n",
    "  #create the missing data mask\n",
    "  mask = tf.math.not_equal(y_true, 255)\n",
    "  #apply the mask\n",
    "  y_true = tf.boolean_mask(y_true, mask)\n",
    "  y_pred = tf.boolean_mask(y_pred, mask)\n",
    "\n",
    "  y_true_f = K.flatten(y_true)\n",
    "  y_pred_f = K.flatten(y_pred)\n",
    "  intersection = K.sum(K.abs(y_true_f * y_pred_f))\n",
    "  return 1-((2. * intersection + smooth) / (K.sum(K.square(y_true_f),-1) + K.sum(K.square(y_pred_f),-1) + smooth))\n",
    "\n",
    "def DiceLoss(y_true, y_pred, smooth=1):\n",
    "  y_true_f = K.flatten(y_true)\n",
    "  y_pred_f = K.flatten(y_pred)\n",
    "  intersection = K.sum(y_true * y_pred)\n",
    "  return 1-((2. * intersection + smooth) / (K.sum(y_true) + K.sum(y_pred) + smooth))"
   ],
   "outputs": [],
   "metadata": {
    "id": "XubAGmQzOFxs"
   }
  },
  {
   "cell_type": "code",
   "execution_count": null,
   "source": [
    "def IOU_coef(y_true, y_pred):\n",
    "  #create the missing data mask\n",
    "  mask = tf.math.not_equal(y_true, 255)\n",
    "  #apply the mask\n",
    "  y_true = tf.boolean_mask(y_true, mask)\n",
    "  y_pred = tf.boolean_mask(y_pred, mask)\n",
    "\n",
    "  #make all values > 0.5 a 1 and all others a 0\n",
    "  y_pred = tf.cast((y_pred > 0.5), dtype=tf.float32)\n",
    "  #y_pred = tf.math.multiply(tf.math.greater(y_pred, 0.5),1.0)\n",
    "\n",
    "  y_true_f = K.flatten(y_true)\n",
    "  y_pred_f = K.flatten(y_pred)\n",
    "  intersection = K.sum(y_true_f * y_pred_f)\n",
    "  return (intersection + 1.0) / (K.sum(y_true_f) + K.sum(y_pred_f) - intersection + 1.0)\n",
    "\n",
    "# https://www.youtube.com/watch?v=BNPW1mYbgS4\n",
    "def IOULoss(y_true, y_pred):\n",
    "    return -IOU_coef(y_true, y_pred)"
   ],
   "outputs": [],
   "metadata": {
    "id": "C5GQhIfyOF1E"
   }
  },
  {
   "cell_type": "markdown",
   "source": [
    "# Unet model"
   ],
   "metadata": {
    "id": "e52500d7"
   }
  },
  {
   "cell_type": "code",
   "execution_count": null,
   "source": [
    "def conv2d_block(input_tensor, n_filters, kernel_size=3, batchnorm=True):\n",
    "    # first layer\n",
    "    x = Conv2D(filters=n_filters, kernel_size=(kernel_size, kernel_size), kernel_initializer=\"he_normal\",\n",
    "               padding=\"same\")(input_tensor)\n",
    "    if batchnorm:\n",
    "        x = BatchNormalization()(x)\n",
    "    x = Activation(\"relu\")(x)\n",
    "    # second layer\n",
    "    x = Conv2D(filters=n_filters, kernel_size=(kernel_size, kernel_size), kernel_initializer=\"he_normal\",\n",
    "               padding=\"same\")(x)\n",
    "    if batchnorm:\n",
    "        x = BatchNormalization()(x)\n",
    "    x = Activation(\"relu\")(x)\n",
    "    return x"
   ],
   "outputs": [],
   "metadata": {
    "id": "d6146af6"
   }
  },
  {
   "cell_type": "code",
   "execution_count": null,
   "source": [
    "def get_unet(input_img, n_filters=16, dropout=0.5, batchnorm=True):\n",
    "    # contracting path\n",
    "    c1 = conv2d_block(input_img, n_filters=n_filters*1, kernel_size=3, batchnorm=batchnorm)\n",
    "    p1 = MaxPooling2D((2, 2)) (c1)\n",
    "    p1 = Dropout(dropout*0.5)(p1)\n",
    "\n",
    "    c2 = conv2d_block(p1, n_filters=n_filters*2, kernel_size=3, batchnorm=batchnorm)\n",
    "    p2 = MaxPooling2D((2, 2)) (c2)\n",
    "    p2 = Dropout(dropout)(p2)\n",
    "\n",
    "    c3 = conv2d_block(p2, n_filters=n_filters*4, kernel_size=3, batchnorm=batchnorm)\n",
    "    p3 = MaxPooling2D((2, 2)) (c3)\n",
    "    p3 = Dropout(dropout)(p3)\n",
    "\n",
    "    c4 = conv2d_block(p3, n_filters=n_filters*8, kernel_size=3, batchnorm=batchnorm)\n",
    "    p4 = MaxPooling2D(pool_size=(2, 2)) (c4)\n",
    "    p4 = Dropout(dropout)(p4)\n",
    "    \n",
    "    c5 = conv2d_block(p4, n_filters=n_filters*16, kernel_size=3, batchnorm=batchnorm)\n",
    "    \n",
    "    # expansive path\n",
    "    u6 = Conv2DTranspose(n_filters*8, (3, 3), strides=(2, 2), padding='same') (c5)\n",
    "    u6 = concatenate([u6, c4])\n",
    "    u6 = Dropout(dropout)(u6)\n",
    "    c6 = conv2d_block(u6, n_filters=n_filters*8, kernel_size=3, batchnorm=batchnorm)\n",
    "\n",
    "    u7 = Conv2DTranspose(n_filters*4, (3, 3), strides=(2, 2), padding='same') (c6)\n",
    "    u7 = concatenate([u7, c3])\n",
    "    u7 = Dropout(dropout)(u7)\n",
    "    c7 = conv2d_block(u7, n_filters=n_filters*4, kernel_size=3, batchnorm=batchnorm)\n",
    "\n",
    "    u8 = Conv2DTranspose(n_filters*2, (3, 3), strides=(2, 2), padding='same') (c7)\n",
    "    u8 = concatenate([u8, c2])\n",
    "    u8 = Dropout(dropout)(u8)\n",
    "    c8 = conv2d_block(u8, n_filters=n_filters*2, kernel_size=3, batchnorm=batchnorm)\n",
    "\n",
    "    u9 = Conv2DTranspose(n_filters*1, (3, 3), strides=(2, 2), padding='same') (c8)\n",
    "    u9 = concatenate([u9, c1], axis=3)\n",
    "    u9 = Dropout(dropout)(u9)\n",
    "    c9 = conv2d_block(u9, n_filters=n_filters*1, kernel_size=3, batchnorm=batchnorm)\n",
    "    \n",
    "    outputs = Conv2D(1, (1, 1), activation='sigmoid') (c9)\n",
    "    model = Model(inputs=[input_img], outputs=[outputs])\n",
    "    return model"
   ],
   "outputs": [],
   "metadata": {
    "id": "7ee9bd67"
   }
  },
  {
   "cell_type": "code",
   "execution_count": null,
   "source": [
    "input_img = Input((img_size, img_size, 9), name='img')\n",
    "model = get_unet(input_img, n_filters=16, dropout=0.05, batchnorm=True)\n",
    "\n",
    "model.compile(optimizer=Adam(), loss=DiceLoss_square, metrics=[IOU_coef])\n",
    "model.summary()"
   ],
   "outputs": [],
   "metadata": {
    "colab": {
     "base_uri": "https://localhost:8080/"
    },
    "id": "e7681243",
    "outputId": "17600a24-1d75-480e-b0ad-9fd5fe430312"
   }
  },
  {
   "cell_type": "code",
   "execution_count": null,
   "source": [
    "callbacks = [\n",
    "    EarlyStopping(patience=10, verbose=1),\n",
    "    ReduceLROnPlateau(factor=0.1, patience=3, min_lr=0.00001, verbose=1),\n",
    "    ModelCheckpoint('../../models/temporary/' + MODEL_NAME, verbose=1, save_best_only=True, save_weights_only=False)\n",
    "]"
   ],
   "outputs": [],
   "metadata": {
    "id": "15e5c30b"
   }
  },
  {
   "cell_type": "code",
   "execution_count": null,
   "source": [
    "print(type(train_x_final[0,0,0,8]), type(train_y[0,0,0]))\n",
    "print(type(test_x[0,0,0,0]), type(test_y[0,0,0]))"
   ],
   "outputs": [],
   "metadata": {
    "colab": {
     "base_uri": "https://localhost:8080/"
    },
    "id": "LCQ8_eltVPrv",
    "outputId": "6a1fe845-8419-4582-b6b0-5b58b32cc875"
   }
  },
  {
   "cell_type": "code",
   "execution_count": null,
   "source": [
    "print(\"max train_x:\", np.amax(train_x), \"min train_x:\", np.amin(train_x))\n",
    "print(\"max train_x_aug:\", np.amax(train_x_aug), \"min train_x_aug:\", np.amin(train_x_aug))\n",
    "print(\"max test_x:\", np.amax(test_x), \"min test_x:\", np.amin(test_x))\n",
    "print(\"max train_y:\", np.amax(train_y), \"min train_y:\", np.amin(train_y))\n",
    "print(\"max test_y:\", np.amax(test_y), \"min test_y:\", np.amin(test_y))"
   ],
   "outputs": [],
   "metadata": {
    "colab": {
     "base_uri": "https://localhost:8080/"
    },
    "id": "ouZu6LX_Vd1a",
    "outputId": "9bf5964d-62e0-4669-eacf-a7424e02a4f8"
   }
  },
  {
   "cell_type": "code",
   "execution_count": null,
   "source": [
    "results = model.fit(train_x_final, train_y_final, batch_size=8, epochs=100, callbacks=callbacks,\n",
    "                    validation_data=(test_x, test_y))"
   ],
   "outputs": [],
   "metadata": {
    "colab": {
     "base_uri": "https://localhost:8080/"
    },
    "id": "d900d6be",
    "outputId": "4d904a08-a13a-4d1c-a61d-fabc4f6f8aef"
   }
  },
  {
   "cell_type": "code",
   "execution_count": null,
   "source": [
    "plt.figure(figsize=(8, 8))\n",
    "plt.title(\"Learning curve\")\n",
    "plt.plot(results.history[\"loss\"], label=\"loss\")\n",
    "plt.plot(results.history[\"val_loss\"], label=\"val_loss\")\n",
    "plt.plot( np.argmin(results.history[\"val_loss\"]), np.min(results.history[\"val_loss\"]), marker=\"x\", color=\"r\", label=\"best model\")\n",
    "plt.xlabel(\"Epochs\")\n",
    "plt.ylabel(\"log_loss\")\n",
    "plt.legend();"
   ],
   "outputs": [],
   "metadata": {
    "colab": {
     "base_uri": "https://localhost:8080/",
     "height": 517
    },
    "id": "cb6548fc",
    "outputId": "1e9fc10b-ca54-4595-b533-08827a1576b3"
   }
  }
 ],
 "metadata": {
  "accelerator": "GPU",
  "colab": {
   "collapsed_sections": [],
   "name": "Unet - PC - image augm - Dice loss_2.ipynb",
   "provenance": []
  },
  "kernelspec": {
   "display_name": "Python 3",
   "language": "python",
   "name": "python3"
  },
  "language_info": {
   "codemirror_mode": {
    "name": "ipython",
    "version": 3
   },
   "file_extension": ".py",
   "mimetype": "text/x-python",
   "name": "python",
   "nbconvert_exporter": "python",
   "pygments_lexer": "ipython3",
   "version": "3.9.6"
  }
 },
 "nbformat": 4,
 "nbformat_minor": 5
}